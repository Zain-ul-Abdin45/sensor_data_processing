{
 "cells": [
  {
   "cell_type": "code",
   "execution_count": 2,
   "id": "542dc74b-9202-4c0e-a793-53450e75b85e",
   "metadata": {},
   "outputs": [
    {
     "name": "stdout",
     "output_type": "stream",
     "text": [
      "   ingredient code Ingredient description  Nutrient code  Nutrient value  \\\n",
      "0             1001  Butter, stick, salted            203            0.85   \n",
      "1             1001  Butter, stick, salted            204           82.20   \n",
      "2             1001  Butter, stick, salted            205            0.06   \n",
      "3             1001  Butter, stick, salted            208          743.00   \n",
      "4             1001  Butter, stick, salted            221            0.00   \n",
      "\n",
      "                      Nutrient value source    FDC ID Derivation code  \\\n",
      "0                                 SR Legacy  173410.0             NaN   \n",
      "1                                Foundation  790508.0               A   \n",
      "2                                 SR Legacy  173410.0              NC   \n",
      "3  Informed by FDC Foundation and SR Legacy       NaN             NaN   \n",
      "4                                 SR Legacy  173410.0             NaN   \n",
      "\n",
      "   SR AddMod year  Foundation year acquired Start date   End date  \n",
      "0          1976.0                         0  2019-01-0  2020-12-3  \n",
      "1             NaN                      2019  2019-01-0  2020-12-3  \n",
      "2          1976.0                         0  2019-01-0  2020-12-3  \n",
      "3             NaN                         0  2019-01-0  2020-12-3  \n",
      "4          1985.0                         0  2019-01-0  2020-12-3  \n"
     ]
    }
   ],
   "source": [
    "import pandas as pd\n",
    "df = pd.read_csv(\"FoodData_Central_Supporting_Data_csv_2022-10-28/fndds_ingredient_nutrient_value.csv\")\n",
    "print(df.head())"
   ]
  },
  {
   "cell_type": "code",
   "execution_count": 3,
   "id": "f74c9378-f109-451c-ae62-cb1a5e2ede19",
   "metadata": {},
   "outputs": [
    {
     "data": {
      "text/plain": [
       "122330"
      ]
     },
     "execution_count": 3,
     "metadata": {},
     "output_type": "execute_result"
    }
   ],
   "source": [
    "len(df)"
   ]
  },
  {
   "cell_type": "code",
   "execution_count": 4,
   "id": "e41c5b2a-395a-4dcb-9a0f-cb8dab61b36d",
   "metadata": {},
   "outputs": [
    {
     "data": {
      "text/plain": [
       "Index(['ingredient code', 'Ingredient description', 'Nutrient code',\n",
       "       'Nutrient value', 'Nutrient value source', 'FDC ID', 'Derivation code',\n",
       "       'SR AddMod year', 'Foundation year acquired', 'Start date', 'End date'],\n",
       "      dtype='object')"
      ]
     },
     "execution_count": 4,
     "metadata": {},
     "output_type": "execute_result"
    }
   ],
   "source": [
    "df.columns"
   ]
  },
  {
   "cell_type": "code",
   "execution_count": 5,
   "id": "4cc5323a-aae7-4734-81ed-9bb4dca5b82f",
   "metadata": {},
   "outputs": [],
   "source": [
    "df.columns = df.columns.str.strip().str.lower().str.replace(' ', '_')\n",
    "df['nutrient_value'] = pd.to_numeric(df['nutrient_value'], errors='coerce')\n",
    "df.dropna(subset=['nutrient_value'], inplace=True)"
   ]
  },
  {
   "cell_type": "code",
   "execution_count": 6,
   "id": "ab86ffae-09bb-4e9d-8f5c-ae38a32bcac3",
   "metadata": {},
   "outputs": [],
   "source": [
    "nutrient_summary = df.groupby(['ingredient_code', 'ingredient_description', 'nutrient_code'])['nutrient_value'].mean().reset_index()\n",
    "pivot_table = nutrient_summary.pivot_table(index=['ingredient_code', 'ingredient_description'], \n",
    "                                           columns='nutrient_code', values='nutrient_value')\n",
    "pivot_table.fillna(0, inplace=True)\n"
   ]
  },
  {
   "cell_type": "code",
   "execution_count": 7,
   "id": "4b1ff17e-962c-4220-aa45-2c34697b252e",
   "metadata": {},
   "outputs": [],
   "source": [
    "from sklearn.preprocessing import StandardScaler\n",
    "\n",
    "scaler = StandardScaler()\n",
    "scaled_data = scaler.fit_transform(pivot_table)\n"
   ]
  },
  {
   "cell_type": "code",
   "execution_count": 8,
   "id": "9e893267-489c-47d1-8b1f-ebe62ce34ca6",
   "metadata": {},
   "outputs": [
    {
     "data": {
      "image/png": "[encoded data removed]",
      "text/plain": [
       "<Figure size 640x480 with 1 Axes>"
      ]
     },
     "metadata": {},
     "output_type": "display_data"
    }
   ],
   "source": [
    "from sklearn.decomposition import PCA\n",
    "import matplotlib.pyplot as plt\n",
    "\n",
    "pca = PCA(n_components=2)\n",
    "pca_result = pca.fit_transform(scaled_data)\n",
    "\n",
    "plt.scatter(pca_result[:, 0], pca_result[:, 1], alpha=0.6)\n",
    "plt.title('Ingredient Nutrient Profiles via PCA')\n",
    "plt.xlabel('PCA 1')\n",
    "plt.ylabel('PCA 2')\n",
    "plt.grid(True)\n",
    "plt.show()\n"
   ]
  },
  {
   "cell_type": "code",
   "execution_count": 10,
   "id": "d85217b1-0c66-4d16-bb3f-1b27cd6a8efe",
   "metadata": {},
   "outputs": [
    {
     "name": "stdout",
     "output_type": "stream",
     "text": [
      "Collecting plotly\n",
      "  Downloading plotly-6.1.1-py3-none-any.whl.metadata (6.9 kB)\n",
      "Requirement already satisfied: narwhals>=1.15.1 in /Users/kashifali/.pyenv/versions/3.11.9/lib/python3.11/site-packages (from plotly) (1.40.0)\n",
      "Requirement already satisfied: packaging in /Users/kashifali/.pyenv/versions/3.11.9/lib/python3.11/site-packages (from plotly) (24.2)\n",
      "Downloading plotly-6.1.1-py3-none-any.whl (16.1 MB)\n",
      "\u001b[2K   \u001b[90m━━━━━━━━━━━━━━━━━━━━━━━━━━━━━━━━━━━━━━━━\u001b[0m \u001b[32m16.1/16.1 MB\u001b[0m \u001b[31m11.2 MB/s\u001b[0m eta \u001b[36m0:00:00\u001b[0m00:01\u001b[0m00:01\u001b[0m\n",
      "\u001b[?25hInstalling collected packages: plotly\n",
      "Successfully installed plotly-6.1.1\n",
      "\n",
      "\u001b[1m[\u001b[0m\u001b[34;49mnotice\u001b[0m\u001b[1;39;49m]\u001b[0m\u001b[39;49m A new release of pip is available: \u001b[0m\u001b[31;49m24.0\u001b[0m\u001b[39;49m -> \u001b[0m\u001b[32;49m25.1.1\u001b[0m\n",
      "\u001b[1m[\u001b[0m\u001b[34;49mnotice\u001b[0m\u001b[1;39;49m]\u001b[0m\u001b[39;49m To update, run: \u001b[0m\u001b[32;49mpip install --upgrade pip\u001b[0m\n"
     ]
    }
   ],
   "source": [
    "!pip install plotly"
   ]
  },
  {
   "cell_type": "code",
   "execution_count": 11,
   "id": "cd5949c0-6a04-408b-ac15-52d3a9d11bcb",
   "metadata": {
    "scrolled": true
   },
   "outputs": [
    {
     "name": "stderr",
     "output_type": "stream",
     "text": [
      "2025-05-25 01:38:12.494 WARNING streamlit.runtime.scriptrunner_utils.script_run_context: Thread 'MainThread': missing ScriptRunContext! This warning can be ignored when running in bare mode.\n",
      "2025-05-25 01:38:12.515 \n",
      "  \u001b[33m\u001b[1mWarning:\u001b[0m to view this Streamlit app on a browser, run it with the following\n",
      "  command:\n",
      "\n",
      "    streamlit run /Users/kashifali/.pyenv/versions/3.11.9/lib/python3.11/site-packages/ipykernel_launcher.py [ARGUMENTS]\n",
      "2025-05-25 01:38:12.515 Thread 'MainThread': missing ScriptRunContext! This warning can be ignored when running in bare mode.\n",
      "2025-05-25 01:38:12.523 Thread 'MainThread': missing ScriptRunContext! This warning can be ignored when running in bare mode.\n",
      "2025-05-25 01:38:12.523 Thread 'MainThread': missing ScriptRunContext! This warning can be ignored when running in bare mode.\n",
      "2025-05-25 01:38:12.525 Thread 'MainThread': missing ScriptRunContext! This warning can be ignored when running in bare mode.\n",
      "2025-05-25 01:38:12.525 Thread 'MainThread': missing ScriptRunContext! This warning can be ignored when running in bare mode.\n",
      "2025-05-25 01:38:12.526 Session state does not function when running a script without `streamlit run`\n",
      "2025-05-25 01:38:12.526 Thread 'MainThread': missing ScriptRunContext! This warning can be ignored when running in bare mode.\n",
      "2025-05-25 01:38:12.526 Thread 'MainThread': missing ScriptRunContext! This warning can be ignored when running in bare mode.\n",
      "2025-05-25 01:38:12.680 Thread 'MainThread': missing ScriptRunContext! This warning can be ignored when running in bare mode.\n",
      "2025-05-25 01:38:12.681 Thread 'MainThread': missing ScriptRunContext! This warning can be ignored when running in bare mode.\n",
      "2025-05-25 01:38:12.681 Thread 'MainThread': missing ScriptRunContext! This warning can be ignored when running in bare mode.\n",
      "2025-05-25 01:38:12.681 Thread 'MainThread': missing ScriptRunContext! This warning can be ignored when running in bare mode.\n"
     ]
    },
    {
     "data": {
      "text/plain": [
       "DeltaGenerator()"
      ]
     },
     "execution_count": 11,
     "metadata": {},
     "output_type": "execute_result"
    }
   ],
   "source": []
  },
  {
   "cell_type": "code",
   "execution_count": 23,
   "id": "5005cfa0-4360-4cd8-b089-31b2f3825909",
   "metadata": {},
   "outputs": [
    {
     "name": "stdout",
     "output_type": "stream",
     "text": [
      "Collecting torchvision\n",
      "  Using cached torchvision-0.22.0-cp311-cp311-macosx_11_0_arm64.whl.metadata (6.1 kB)\n",
      "Collecting numpy (from torchvision)\n",
      "  Downloading numpy-2.2.6-cp311-cp311-macosx_14_0_arm64.whl.metadata (62 kB)\n",
      "\u001b[2K     \u001b[90m━━━━━━━━━━━━━━━━━━━━━━━━━━━━━━━━━━━━━━━━\u001b[0m \u001b[32m62.0/62.0 kB\u001b[0m \u001b[31m2.6 MB/s\u001b[0m eta \u001b[36m0:00:00\u001b[0m\n",
      "\u001b[?25hCollecting torch==2.7.0 (from torchvision)\n",
      "  Using cached torch-2.7.0-cp311-none-macosx_11_0_arm64.whl.metadata (29 kB)\n",
      "Collecting pillow!=8.3.*,>=5.3.0 (from torchvision)\n",
      "  Using cached pillow-11.2.1-cp311-cp311-macosx_11_0_arm64.whl.metadata (8.9 kB)\n",
      "Collecting filelock (from torch==2.7.0->torchvision)\n",
      "  Using cached filelock-3.18.0-py3-none-any.whl.metadata (2.9 kB)\n",
      "Collecting typing-extensions>=4.10.0 (from torch==2.7.0->torchvision)\n",
      "  Using cached typing_extensions-4.13.2-py3-none-any.whl.metadata (3.0 kB)\n",
      "Collecting sympy>=1.13.3 (from torch==2.7.0->torchvision)\n",
      "  Using cached sympy-1.14.0-py3-none-any.whl.metadata (12 kB)\n",
      "Collecting networkx (from torch==2.7.0->torchvision)\n",
      "  Using cached networkx-3.4.2-py3-none-any.whl.metadata (6.3 kB)\n",
      "Collecting jinja2 (from torch==2.7.0->torchvision)\n",
      "  Using cached jinja2-3.1.6-py3-none-any.whl.metadata (2.9 kB)\n",
      "Collecting fsspec (from torch==2.7.0->torchvision)\n",
      "  Using cached fsspec-2025.5.1-py3-none-any.whl.metadata (11 kB)\n",
      "Collecting mpmath<1.4,>=1.1.0 (from sympy>=1.13.3->torch==2.7.0->torchvision)\n",
      "  Using cached mpmath-1.3.0-py3-none-any.whl.metadata (8.6 kB)\n",
      "Collecting MarkupSafe>=2.0 (from jinja2->torch==2.7.0->torchvision)\n",
      "  Using cached MarkupSafe-3.0.2-cp311-cp311-macosx_11_0_arm64.whl.metadata (4.0 kB)\n",
      "Using cached torchvision-0.22.0-cp311-cp311-macosx_11_0_arm64.whl (1.9 MB)\n",
      "Using cached torch-2.7.0-cp311-none-macosx_11_0_arm64.whl (68.6 MB)\n",
      "Using cached pillow-11.2.1-cp311-cp311-macosx_11_0_arm64.whl (3.0 MB)\n",
      "Downloading numpy-2.2.6-cp311-cp311-macosx_14_0_arm64.whl (5.4 MB)\n",
      "\u001b[2K   \u001b[90m━━━━━━━━━━━━━━━━━━━━━━━━━━━━━━━━━━━━━━━━\u001b[0m \u001b[32m5.4/5.4 MB\u001b[0m \u001b[31m8.8 MB/s\u001b[0m eta \u001b[36m0:00:00\u001b[0m00:01\u001b[0m00:01\u001b[0m\n",
      "\u001b[?25hUsing cached sympy-1.14.0-py3-none-any.whl (6.3 MB)\n",
      "Using cached typing_extensions-4.13.2-py3-none-any.whl (45 kB)\n",
      "Using cached filelock-3.18.0-py3-none-any.whl (16 kB)\n",
      "Using cached fsspec-2025.5.1-py3-none-any.whl (199 kB)\n",
      "Using cached jinja2-3.1.6-py3-none-any.whl (134 kB)\n",
      "Using cached networkx-3.4.2-py3-none-any.whl (1.7 MB)\n",
      "Using cached MarkupSafe-3.0.2-cp311-cp311-macosx_11_0_arm64.whl (12 kB)\n",
      "Using cached mpmath-1.3.0-py3-none-any.whl (536 kB)\n",
      "Installing collected packages: mpmath, typing-extensions, sympy, pillow, numpy, networkx, MarkupSafe, fsspec, filelock, jinja2, torch, torchvision\n",
      "Successfully installed MarkupSafe-3.0.2 filelock-3.18.0 fsspec-2025.5.1 jinja2-3.1.6 mpmath-1.3.0 networkx-3.4.2 numpy-2.2.6 pillow-11.2.1 sympy-1.14.0 torch-2.7.0 torchvision-0.22.0 typing-extensions-4.13.2\n",
      "\n",
      "\u001b[1m[\u001b[0m\u001b[34;49mnotice\u001b[0m\u001b[1;39;49m]\u001b[0m\u001b[39;49m A new release of pip is available: \u001b[0m\u001b[31;49m24.0\u001b[0m\u001b[39;49m -> \u001b[0m\u001b[32;49m25.1.1\u001b[0m\n",
      "\u001b[1m[\u001b[0m\u001b[34;49mnotice\u001b[0m\u001b[1;39;49m]\u001b[0m\u001b[39;49m To update, run: \u001b[0m\u001b[32;49mpip install --upgrade pip\u001b[0m\n"
     ]
    }
   ],
   "source": [
    "!pip install torchvision"
   ]
  },
  {
   "cell_type": "code",
   "execution_count": 26,
   "id": "964cb6d0-8174-4d9d-93d2-5a8f19c2648f",
   "metadata": {
    "scrolled": true
   },
   "outputs": [
    {
     "name": "stdout",
     "output_type": "stream",
     "text": [
      "Using device: cpu\n",
      "Filtering dataset for classes: ['donuts', 'cheese_plate', 'apple_pie']\n",
      "Samples after filtering: 900\n",
      "Training samples: 720, Validation samples: 180\n",
      "Loading pretrained ResNet18...\n",
      "Downloading: \"https://download.pytorch.org/models/resnet18-f37072fd.pth\" to /Users/kashifali/.cache/torch/hub/checkpoints/resnet18-f37072fd.pth\n"
     ]
    },
    {
     "name": "stderr",
     "output_type": "stream",
     "text": [
      "/Users/kashifali/.pyenv/versions/3.11.9/lib/python3.11/site-packages/torchvision/models/_utils.py:208: UserWarning:\n",
      "\n",
      "The parameter 'pretrained' is deprecated since 0.13 and may be removed in the future, please use 'weights' instead.\n",
      "\n",
      "/Users/kashifali/.pyenv/versions/3.11.9/lib/python3.11/site-packages/torchvision/models/_utils.py:223: UserWarning:\n",
      "\n",
      "Arguments other than a weight enum or `None` for 'weights' are deprecated since 0.13 and may be removed in the future. The current behavior is equivalent to passing `weights=ResNet18_Weights.IMAGENET1K_V1`. You can also use `weights=ResNet18_Weights.DEFAULT` to get the most up-to-date weights.\n",
      "\n",
      "100%|██████████████████████████████████████| 44.7M/44.7M [00:03<00:00, 12.0MB/s]\n"
     ]
    },
    {
     "name": "stdout",
     "output_type": "stream",
     "text": [
      "\n",
      "Epoch 1/2\n",
      "Batch 0/45 | Loss: 0.9342\n",
      "Batch 10/45 | Loss: 1.9033\n",
      "Batch 20/45 | Loss: 1.7003\n",
      "Batch 30/45 | Loss: 0.6504\n",
      "Batch 40/45 | Loss: 0.8116\n",
      "Train Loss: 1.0627 | Train Acc: 64.86% | Val Acc: 67.22%\n",
      "\n",
      "Epoch 2/2\n",
      "Batch 0/45 | Loss: 0.9303\n",
      "Batch 10/45 | Loss: 0.5149\n",
      "Batch 20/45 | Loss: 0.5909\n",
      "Batch 30/45 | Loss: 0.3446\n",
      "Batch 40/45 | Loss: 0.8135\n",
      "Train Loss: 0.6088 | Train Acc: 76.81% | Val Acc: 70.00%\n"
     ]
    }
   ],
   "source": [
    "import os\n",
    "import torch\n",
    "import torchvision\n",
    "from torchvision import datasets, transforms, models\n",
    "from torch.utils.data import DataLoader, Subset\n",
    "import torch.nn as nn\n",
    "import torch.optim as optim\n",
    "from collections import defaultdict\n",
    "import matplotlib.pyplot as plt\n"
   ]
  },
  {
   "cell_type": "code",
   "execution_count": null,
   "id": "23b0ce08-6d5c-4ac0-92cf-18d1957451d9",
   "metadata": {},
   "outputs": [],
   "source": [
    "\n",
    "# ========== CONFIG ==========\n",
    "data_dir = \"food-101/images/\"\n",
    "target_classes = ['donuts', 'cheese_plate', 'apple_pie']  # Choose classes\n",
    "max_per_class = 300\n",
    "batch_size = 16\n",
    "num_epochs = 2\n",
    "device = torch.device(\"cuda\" if torch.cuda.is_available() else \"cpu\")\n",
    "print(f\"Using device: {device}\")\n",
    "# =============================\n",
    "\n",
    "# ========== TRANSFORM ==========\n",
    "transform = transforms.Compose([\n",
    "    transforms.Resize((128, 128)),\n",
    "    transforms.ToTensor(),\n",
    "    transforms.Normalize([0.5]*3, [0.5]*3)\n",
    "])\n",
    "# ================================\n",
    "\n",
    "# ========== CUSTOM DATASET ==========\n",
    "class FilteredImageFolder(datasets.ImageFolder):\n",
    "    def __init__(self, root, transform=None, target_classes=None, max_per_class=None):\n",
    "        super().__init__(root, transform=transform)\n",
    "        if target_classes:\n",
    "            print(f\"Filtering dataset for classes: {target_classes}\")\n",
    "            class_indices = {cls: i for i, cls in enumerate(target_classes)}\n",
    "            filtered = []\n",
    "            class_counter = defaultdict(int)\n",
    "            for path, label in self.samples:\n",
    "                class_name = self.classes[label]\n",
    "                if class_name in target_classes and class_counter[class_name] < max_per_class:\n",
    "                    filtered.append((path, class_indices[class_name]))\n",
    "                    class_counter[class_name] += 1\n",
    "            self.samples = filtered\n",
    "            self.classes = target_classes\n",
    "            self.class_to_idx = class_indices\n",
    "            self.targets = [label for _, label in self.samples]\n",
    "            print(f\"Samples after filtering: {len(self.samples)}\")\n",
    "# ====================================\n",
    "\n",
    "# Load the dataset\n",
    "dataset = FilteredImageFolder(data_dir, transform=transform,\n",
    "                              target_classes=target_classes,\n",
    "                              max_per_class=max_per_class)\n",
    "\n",
    "# Split into train and validation\n",
    "train_size = int(0.8 * len(dataset))\n",
    "val_size = len(dataset) - train_size\n",
    "train_ds, val_ds = torch.utils.data.random_split(dataset, [train_size, val_size])\n",
    "train_loader = DataLoader(train_ds, batch_size=batch_size, shuffle=True)\n",
    "val_loader = DataLoader(val_ds, batch_size=batch_size, shuffle=False)\n",
    "\n",
    "print(f\"Training samples: {len(train_ds)}, Validation samples: {len(val_ds)}\")\n",
    "\n",
    "# ========== MODEL ==========\n",
    "print(\"Loading pretrained ResNet18...\")\n",
    "model = models.resnet18(pretrained=True)\n",
    "model.fc = nn.Linear(model.fc.in_features, len(target_classes))\n",
    "model = model.to(device)\n",
    "\n",
    "# Loss and optimizer\n",
    "loss_fn = nn.CrossEntropyLoss()\n",
    "optimizer = optim.Adam(model.parameters(), lr=0.001)\n",
    "# ===========================\n",
    "\n",
    "# ========== TRAIN & EVAL FUNCTIONS ==========\n",
    "def train(model, loader):\n",
    "    model.train()\n",
    "    running_loss, correct = 0.0, 0\n",
    "    for i, (inputs, labels) in enumerate(loader):\n",
    "        inputs, labels = inputs.to(device), labels.to(device)\n",
    "        optimizer.zero_grad()\n",
    "        outputs = model(inputs)\n",
    "        loss = loss_fn(outputs, labels)\n",
    "        loss.backward()\n",
    "        optimizer.step()\n",
    "\n",
    "        running_loss += loss.item()\n",
    "        correct += (outputs.argmax(1) == labels).sum().item()\n",
    "\n",
    "        if i % 10 == 0:\n",
    "            print(f\"Batch {i}/{len(loader)} | Loss: {loss.item():.4f}\")\n",
    "    return running_loss / len(loader), correct / len(loader.dataset)\n",
    "\n",
    "def evaluate(model, loader):\n",
    "    model.eval()\n",
    "    correct = 0\n",
    "    with torch.no_grad():\n",
    "        for inputs, labels in loader:\n",
    "            inputs, labels = inputs.to(device), labels.to(device)\n",
    "            outputs = model(inputs)\n",
    "            correct += (outputs.argmax(1) == labels).sum().item()\n",
    "    return correct / len(loader.dataset)\n",
    "# ============================================\n",
    "\n",
    "# ========== TRAIN LOOP ==========\n",
    "for epoch in range(num_epochs):\n",
    "    print(f\"\\nEpoch {epoch+1}/{num_epochs}\")\n",
    "    train_loss, train_acc = train(model, train_loader)\n",
    "    val_acc = evaluate(model, val_loader)\n",
    "    print(f\"Train Loss: {train_loss:.4f} | Train Acc: {train_acc*100:.2f}% | Val Acc: {val_acc*100:.2f}%\")\n",
    "# =================================\n"
   ]
  },
  {
   "cell_type": "code",
   "execution_count": 27,
   "id": "ed8e05aa-a88a-4f57-9982-6c99e22ef13d",
   "metadata": {},
   "outputs": [],
   "source": [
    "from PIL import Image\n",
    "\n",
    "def predict_image(image_path, model, transform, class_names):\n",
    "    model.eval()\n",
    "    img = Image.open(image_path).convert('RGB')\n",
    "    img_t = transform(img).unsqueeze(0).to(device)\n",
    "    with torch.no_grad():\n",
    "        output = model(img_t)\n",
    "        pred = torch.argmax(output, dim=1).item()\n",
    "    print(f\"Predicted class: {class_names[pred]}\")\n",
    "    plt.imshow(img)\n",
    "    plt.title(f\"Prediction: {class_names[pred]}\")\n",
    "    plt.axis(\"off\")\n",
    "    plt.show()\n"
   ]
  },
  {
   "cell_type": "code",
   "execution_count": 29,
   "id": "688dbb55-d35c-408a-9c3c-954cdd3890a3",
   "metadata": {},
   "outputs": [
    {
     "name": "stdout",
     "output_type": "stream",
     "text": [
      "Collecting seaborn\n",
      "  Using cached seaborn-0.13.2-py3-none-any.whl.metadata (5.4 kB)\n",
      "Requirement already satisfied: numpy!=1.24.0,>=1.20 in /Users/kashifali/.pyenv/versions/3.11.9/lib/python3.11/site-packages (from seaborn) (2.2.6)\n",
      "Collecting pandas>=1.2 (from seaborn)\n",
      "  Using cached pandas-2.2.3-cp311-cp311-macosx_11_0_arm64.whl.metadata (89 kB)\n",
      "Collecting matplotlib!=3.6.1,>=3.4 (from seaborn)\n",
      "  Using cached matplotlib-3.10.3-cp311-cp311-macosx_11_0_arm64.whl.metadata (11 kB)\n",
      "Collecting contourpy>=1.0.1 (from matplotlib!=3.6.1,>=3.4->seaborn)\n",
      "  Using cached contourpy-1.3.2-cp311-cp311-macosx_11_0_arm64.whl.metadata (5.5 kB)\n",
      "Collecting cycler>=0.10 (from matplotlib!=3.6.1,>=3.4->seaborn)\n",
      "  Using cached cycler-0.12.1-py3-none-any.whl.metadata (3.8 kB)\n",
      "Collecting fonttools>=4.22.0 (from matplotlib!=3.6.1,>=3.4->seaborn)\n",
      "  Using cached fonttools-4.58.0-cp311-cp311-macosx_10_9_universal2.whl.metadata (104 kB)\n",
      "Collecting kiwisolver>=1.3.1 (from matplotlib!=3.6.1,>=3.4->seaborn)\n",
      "  Using cached kiwisolver-1.4.8-cp311-cp311-macosx_11_0_arm64.whl.metadata (6.2 kB)\n",
      "Collecting packaging>=20.0 (from matplotlib!=3.6.1,>=3.4->seaborn)\n",
      "  Using cached packaging-25.0-py3-none-any.whl.metadata (3.3 kB)\n",
      "Requirement already satisfied: pillow>=8 in /Users/kashifali/.pyenv/versions/3.11.9/lib/python3.11/site-packages (from matplotlib!=3.6.1,>=3.4->seaborn) (11.2.1)\n",
      "Collecting pyparsing>=2.3.1 (from matplotlib!=3.6.1,>=3.4->seaborn)\n",
      "  Using cached pyparsing-3.2.3-py3-none-any.whl.metadata (5.0 kB)\n",
      "Collecting python-dateutil>=2.7 (from matplotlib!=3.6.1,>=3.4->seaborn)\n",
      "  Using cached python_dateutil-2.9.0.post0-py2.py3-none-any.whl.metadata (8.4 kB)\n",
      "Collecting pytz>=2020.1 (from pandas>=1.2->seaborn)\n",
      "  Using cached pytz-2025.2-py2.py3-none-any.whl.metadata (22 kB)\n",
      "Collecting tzdata>=2022.7 (from pandas>=1.2->seaborn)\n",
      "  Using cached tzdata-2025.2-py2.py3-none-any.whl.metadata (1.4 kB)\n",
      "Collecting six>=1.5 (from python-dateutil>=2.7->matplotlib!=3.6.1,>=3.4->seaborn)\n",
      "  Using cached six-1.17.0-py2.py3-none-any.whl.metadata (1.7 kB)\n",
      "Using cached seaborn-0.13.2-py3-none-any.whl (294 kB)\n",
      "Using cached matplotlib-3.10.3-cp311-cp311-macosx_11_0_arm64.whl (8.1 MB)\n",
      "Using cached pandas-2.2.3-cp311-cp311-macosx_11_0_arm64.whl (11.3 MB)\n",
      "Using cached contourpy-1.3.2-cp311-cp311-macosx_11_0_arm64.whl (254 kB)\n",
      "Using cached cycler-0.12.1-py3-none-any.whl (8.3 kB)\n",
      "Using cached fonttools-4.58.0-cp311-cp311-macosx_10_9_universal2.whl (2.8 MB)\n",
      "Using cached kiwisolver-1.4.8-cp311-cp311-macosx_11_0_arm64.whl (65 kB)\n",
      "Using cached packaging-25.0-py3-none-any.whl (66 kB)\n",
      "Using cached pyparsing-3.2.3-py3-none-any.whl (111 kB)\n",
      "Using cached python_dateutil-2.9.0.post0-py2.py3-none-any.whl (229 kB)\n",
      "Using cached pytz-2025.2-py2.py3-none-any.whl (509 kB)\n",
      "Using cached tzdata-2025.2-py2.py3-none-any.whl (347 kB)\n",
      "Using cached six-1.17.0-py2.py3-none-any.whl (11 kB)\n",
      "Installing collected packages: pytz, tzdata, six, pyparsing, packaging, kiwisolver, fonttools, cycler, contourpy, python-dateutil, pandas, matplotlib, seaborn\n",
      "Successfully installed contourpy-1.3.2 cycler-0.12.1 fonttools-4.58.0 kiwisolver-1.4.8 matplotlib-3.10.3 packaging-25.0 pandas-2.2.3 pyparsing-3.2.3 python-dateutil-2.9.0.post0 pytz-2025.2 seaborn-0.13.2 six-1.17.0 tzdata-2025.2\n",
      "\n",
      "\u001b[1m[\u001b[0m\u001b[34;49mnotice\u001b[0m\u001b[1;39;49m]\u001b[0m\u001b[39;49m A new release of pip is available: \u001b[0m\u001b[31;49m24.0\u001b[0m\u001b[39;49m -> \u001b[0m\u001b[32;49m25.1.1\u001b[0m\n",
      "\u001b[1m[\u001b[0m\u001b[34;49mnotice\u001b[0m\u001b[1;39;49m]\u001b[0m\u001b[39;49m To update, run: \u001b[0m\u001b[32;49mpip install --upgrade pip\u001b[0m\n"
     ]
    }
   ],
   "source": [
    "!pip3 install seaborn"
   ]
  },
  {
   "cell_type": "code",
   "execution_count": 30,
   "id": "7f0e987a-2a1f-41a9-96c8-38b61bdf51ea",
   "metadata": {},
   "outputs": [],
   "source": [
    "import seaborn as sns\n",
    "from sklearn.metrics import confusion_matrix, classification_report\n",
    "\n",
    "def plot_confusion_matrix(model, val_loader, class_names):\n",
    "    y_true = []\n",
    "    y_pred = []\n",
    "\n",
    "    model.eval()\n",
    "    with torch.no_grad():\n",
    "        for inputs, labels in val_loader:\n",
    "            inputs, labels = inputs.to(device), labels.to(device)\n",
    "            outputs = model(inputs)\n",
    "            preds = outputs.argmax(1)\n",
    "            y_true.extend(labels.cpu().numpy())\n",
    "            y_pred.extend(preds.cpu().numpy())\n",
    "\n",
    "    cm = confusion_matrix(y_true, y_pred)\n",
    "    plt.figure(figsize=(6, 5))\n",
    "    sns.heatmap(cm, annot=True, fmt='d', cmap='Blues',\n",
    "                xticklabels=class_names,\n",
    "                yticklabels=class_names)\n",
    "    plt.title(\"Confusion Matrix\")\n",
    "    plt.xlabel(\"Predicted\")\n",
    "    plt.ylabel(\"Actual\")\n",
    "    plt.show()\n",
    "\n",
    "    print(\"\\nClassification Report:\")\n",
    "    print(classification_report(y_true, y_pred, target_names=class_names))\n"
   ]
  },
  {
   "cell_type": "code",
   "execution_count": 32,
   "id": "3072f7f8-36be-4bd5-b79c-69a657f9d2a2",
   "metadata": {},
   "outputs": [
    {
     "data": {
      "image/png": "[encoded data removed]",
      "text/plain": [
       "<Figure size 600x500 with 2 Axes>"
      ]
     },
     "metadata": {},
     "output_type": "display_data"
    },
    {
     "name": "stdout",
     "output_type": "stream",
     "text": [
      "\n",
      "Classification Report:\n",
      "              precision    recall  f1-score   support\n",
      "\n",
      "      donuts       0.66      0.81      0.73        68\n",
      "cheese_plate       0.64      0.71      0.67        55\n",
      "   apple_pie       0.89      0.56      0.69        57\n",
      "\n",
      "    accuracy                           0.70       180\n",
      "   macro avg       0.73      0.69      0.70       180\n",
      "weighted avg       0.73      0.70      0.70       180\n",
      "\n",
      "Predicted class: donuts\n"
     ]
    },
    {
     "name": "stderr",
     "output_type": "stream",
     "text": [
      "2025-05-25 12:37:00.355 Uncaught exception in zmqstream callback\n",
      "Traceback (most recent call last):\n",
      "  File \"/Users/kashifali/.pyenv/versions/3.11.9/lib/python3.11/site-packages/zmq/eventloop/zmqstream.py\", line 600, in _handle_events\n",
      "  File \"/Users/kashifali/.pyenv/versions/3.11.9/lib/python3.11/site-packages/zmq/eventloop/zmqstream.py\", line 629, in _handle_recv\n",
      "  File \"/Users/kashifali/.pyenv/versions/3.11.9/lib/python3.11/site-packages/zmq/eventloop/zmqstream.py\", line 550, in _run_callback\n",
      "  File \"/Users/kashifali/.pyenv/versions/3.11.9/lib/python3.11/site-packages/ipykernel/iostream.py\", line 170, in _handle_event\n",
      "  File \"/Users/kashifali/.pyenv/versions/3.11.9/lib/python3.11/site-packages/ipykernel/iostream.py\", line 276, in <lambda>\n",
      "  File \"/Users/kashifali/.pyenv/versions/3.11.9/lib/python3.11/site-packages/ipykernel/iostream.py\", line 287, in _really_send\n",
      "  File \"/Users/kashifali/.pyenv/versions/3.11.9/lib/python3.11/site-packages/zmq/sugar/socket.py\", line 751, in send_multipart\n",
      "  File \"/Users/kashifali/.pyenv/versions/3.11.9/lib/python3.11/site-packages/zmq/sugar/socket.py\", line 698, in send\n",
      "  File \"_zmq.py\", line 1081, in zmq.backend.cython._zmq.Socket.send\n",
      "  File \"_zmq.py\", line 1144, in zmq.backend.cython._zmq.Socket.send\n",
      "  File \"_zmq.py\", line 345, in zmq.backend.cython._zmq.Frame.__init__\n",
      "ModuleNotFoundError: No module named 'zmq.utils.garbage'\n",
      "Exception in callback BaseAsyncIOLoop._handle_events(40, 1)\n",
      "handle: <Handle BaseAsyncIOLoop._handle_events(40, 1)>\n",
      "Traceback (most recent call last):\n",
      "  File \"/Users/kashifali/.pyenv/versions/3.11.9/lib/python3.11/asyncio/events.py\", line 84, in _run\n",
      "    self._context.run(self._callback, *self._args)\n",
      "  File \"/Users/kashifali/.pyenv/versions/3.11.9/lib/python3.11/site-packages/tornado/platform/asyncio.py\", line 208, in _handle_events\n",
      "  File \"/Users/kashifali/.pyenv/versions/3.11.9/lib/python3.11/site-packages/zmq/eventloop/zmqstream.py\", line 600, in _handle_events\n",
      "  File \"/Users/kashifali/.pyenv/versions/3.11.9/lib/python3.11/site-packages/zmq/eventloop/zmqstream.py\", line 629, in _handle_recv\n",
      "  File \"/Users/kashifali/.pyenv/versions/3.11.9/lib/python3.11/site-packages/zmq/eventloop/zmqstream.py\", line 550, in _run_callback\n",
      "  File \"/Users/kashifali/.pyenv/versions/3.11.9/lib/python3.11/site-packages/ipykernel/iostream.py\", line 170, in _handle_event\n",
      "  File \"/Users/kashifali/.pyenv/versions/3.11.9/lib/python3.11/site-packages/ipykernel/iostream.py\", line 276, in <lambda>\n",
      "  File \"/Users/kashifali/.pyenv/versions/3.11.9/lib/python3.11/site-packages/ipykernel/iostream.py\", line 287, in _really_send\n",
      "  File \"/Users/kashifali/.pyenv/versions/3.11.9/lib/python3.11/site-packages/zmq/sugar/socket.py\", line 751, in send_multipart\n",
      "  File \"/Users/kashifali/.pyenv/versions/3.11.9/lib/python3.11/site-packages/zmq/sugar/socket.py\", line 698, in send\n",
      "  File \"_zmq.py\", line 1081, in zmq.backend.cython._zmq.Socket.send\n",
      "  File \"_zmq.py\", line 1144, in zmq.backend.cython._zmq.Socket.send\n",
      "  File \"_zmq.py\", line 345, in zmq.backend.cython._zmq.Frame.__init__\n",
      "ModuleNotFoundError: No module named 'zmq.utils.garbage'\n"
     ]
    }
   ],
   "source": [
    "# Plot confusion matrix\n",
    "plot_confusion_matrix(model, val_loader, dataset.classes)\n",
    "\n",
    "# Predict a sample image\n",
    "predict_image(\"food-101/images/donuts/115428.jpg\", model, transform, dataset.classes)"
   ]
  },
  {
   "cell_type": "code",
   "execution_count": 34,
   "id": "11202723-a98f-4abb-a2d8-5140ee79a8ad",
   "metadata": {},
   "outputs": [
    {
     "data": {
      "image/png": "[encoded data removed]",
      "text/plain": [
       "<Figure size 600x500 with 2 Axes>"
      ]
     },
     "metadata": {},
     "output_type": "display_data"
    },
    {
     "name": "stdout",
     "output_type": "stream",
     "text": [
      "\n",
      "Classification Report:\n",
      "              precision    recall  f1-score   support\n",
      "\n",
      "      donuts       0.66      0.81      0.73        68\n",
      "cheese_plate       0.64      0.71      0.67        55\n",
      "   apple_pie       0.89      0.56      0.69        57\n",
      "\n",
      "    accuracy                           0.70       180\n",
      "   macro avg       0.73      0.69      0.70       180\n",
      "weighted avg       0.73      0.70      0.70       180\n",
      "\n",
      "Predicted class: cheese_plate\n"
     ]
    },
    {
     "name": "stderr",
     "output_type": "stream",
     "text": [
      "2025-05-25 12:39:15.191 Uncaught exception in zmqstream callback\n",
      "Traceback (most recent call last):\n",
      "  File \"/Users/kashifali/.pyenv/versions/3.11.9/lib/python3.11/site-packages/zmq/eventloop/zmqstream.py\", line 600, in _handle_events\n",
      "  File \"/Users/kashifali/.pyenv/versions/3.11.9/lib/python3.11/site-packages/zmq/eventloop/zmqstream.py\", line 629, in _handle_recv\n",
      "  File \"/Users/kashifali/.pyenv/versions/3.11.9/lib/python3.11/site-packages/zmq/eventloop/zmqstream.py\", line 550, in _run_callback\n",
      "  File \"/Users/kashifali/.pyenv/versions/3.11.9/lib/python3.11/site-packages/ipykernel/iostream.py\", line 170, in _handle_event\n",
      "  File \"/Users/kashifali/.pyenv/versions/3.11.9/lib/python3.11/site-packages/ipykernel/iostream.py\", line 276, in <lambda>\n",
      "  File \"/Users/kashifali/.pyenv/versions/3.11.9/lib/python3.11/site-packages/ipykernel/iostream.py\", line 287, in _really_send\n",
      "  File \"/Users/kashifali/.pyenv/versions/3.11.9/lib/python3.11/site-packages/zmq/sugar/socket.py\", line 751, in send_multipart\n",
      "  File \"/Users/kashifali/.pyenv/versions/3.11.9/lib/python3.11/site-packages/zmq/sugar/socket.py\", line 698, in send\n",
      "  File \"_zmq.py\", line 1081, in zmq.backend.cython._zmq.Socket.send\n",
      "  File \"_zmq.py\", line 1144, in zmq.backend.cython._zmq.Socket.send\n",
      "  File \"_zmq.py\", line 345, in zmq.backend.cython._zmq.Frame.__init__\n",
      "ModuleNotFoundError: No module named 'zmq.utils.garbage'\n",
      "2025-05-25 12:39:15.191 Exception in callback functools.partial(<function ZMQStream._update_handler.<locals>.<lambda> at 0x32ff2fe20>)\n",
      "Traceback (most recent call last):\n",
      "  File \"/Users/kashifali/.pyenv/versions/3.11.9/lib/python3.11/site-packages/tornado/ioloop.py\", line 758, in _run_callback\n",
      "  File \"/Users/kashifali/.pyenv/versions/3.11.9/lib/python3.11/site-packages/zmq/eventloop/zmqstream.py\", line 684, in <lambda>\n",
      "  File \"/Users/kashifali/.pyenv/versions/3.11.9/lib/python3.11/site-packages/zmq/eventloop/zmqstream.py\", line 600, in _handle_events\n",
      "  File \"/Users/kashifali/.pyenv/versions/3.11.9/lib/python3.11/site-packages/zmq/eventloop/zmqstream.py\", line 629, in _handle_recv\n",
      "  File \"/Users/kashifali/.pyenv/versions/3.11.9/lib/python3.11/site-packages/zmq/eventloop/zmqstream.py\", line 550, in _run_callback\n",
      "  File \"/Users/kashifali/.pyenv/versions/3.11.9/lib/python3.11/site-packages/ipykernel/iostream.py\", line 170, in _handle_event\n",
      "  File \"/Users/kashifali/.pyenv/versions/3.11.9/lib/python3.11/site-packages/ipykernel/iostream.py\", line 276, in <lambda>\n",
      "  File \"/Users/kashifali/.pyenv/versions/3.11.9/lib/python3.11/site-packages/ipykernel/iostream.py\", line 287, in _really_send\n",
      "  File \"/Users/kashifali/.pyenv/versions/3.11.9/lib/python3.11/site-packages/zmq/sugar/socket.py\", line 751, in send_multipart\n",
      "  File \"/Users/kashifali/.pyenv/versions/3.11.9/lib/python3.11/site-packages/zmq/sugar/socket.py\", line 698, in send\n",
      "  File \"_zmq.py\", line 1081, in zmq.backend.cython._zmq.Socket.send\n",
      "  File \"_zmq.py\", line 1144, in zmq.backend.cython._zmq.Socket.send\n",
      "  File \"_zmq.py\", line 345, in zmq.backend.cython._zmq.Frame.__init__\n",
      "ModuleNotFoundError: No module named 'zmq.utils.garbage'\n"
     ]
    }
   ],
   "source": [
    "# Plot confusion matrix\n",
    "plot_confusion_matrix(model, val_loader, dataset.classes)\n",
    "\n",
    "# Predict a sample image\n",
    "predict_image(\"food-101/images/cheese_plate/33559.jpg\", model, transform, dataset.classes)"
   ]
  },
  {
   "cell_type": "code",
   "execution_count": 35,
   "id": "fb23f4b8-6970-4b3d-b1d6-af3f3bb56322",
   "metadata": {},
   "outputs": [
    {
     "data": {
      "image/png": "[encoded data removed]",
      "text/plain": [
       "<Figure size 600x500 with 2 Axes>"
      ]
     },
     "metadata": {},
     "output_type": "display_data"
    },
    {
     "name": "stdout",
     "output_type": "stream",
     "text": [
      "\n",
      "Classification Report:\n",
      "              precision    recall  f1-score   support\n",
      "\n",
      "      donuts       0.66      0.81      0.73        68\n",
      "cheese_plate       0.64      0.71      0.67        55\n",
      "   apple_pie       0.89      0.56      0.69        57\n",
      "\n",
      "    accuracy                           0.70       180\n",
      "   macro avg       0.73      0.69      0.70       180\n",
      "weighted avg       0.73      0.70      0.70       180\n",
      "\n",
      "Predicted class: apple_pie\n"
     ]
    },
    {
     "name": "stderr",
     "output_type": "stream",
     "text": [
      "2025-05-25 12:40:09.147 Uncaught exception in zmqstream callback\n",
      "Traceback (most recent call last):\n",
      "  File \"/Users/kashifali/.pyenv/versions/3.11.9/lib/python3.11/site-packages/zmq/eventloop/zmqstream.py\", line 600, in _handle_events\n",
      "  File \"/Users/kashifali/.pyenv/versions/3.11.9/lib/python3.11/site-packages/zmq/eventloop/zmqstream.py\", line 629, in _handle_recv\n",
      "  File \"/Users/kashifali/.pyenv/versions/3.11.9/lib/python3.11/site-packages/zmq/eventloop/zmqstream.py\", line 550, in _run_callback\n",
      "  File \"/Users/kashifali/.pyenv/versions/3.11.9/lib/python3.11/site-packages/ipykernel/iostream.py\", line 170, in _handle_event\n",
      "  File \"/Users/kashifali/.pyenv/versions/3.11.9/lib/python3.11/site-packages/ipykernel/iostream.py\", line 276, in <lambda>\n",
      "  File \"/Users/kashifali/.pyenv/versions/3.11.9/lib/python3.11/site-packages/ipykernel/iostream.py\", line 287, in _really_send\n",
      "  File \"/Users/kashifali/.pyenv/versions/3.11.9/lib/python3.11/site-packages/zmq/sugar/socket.py\", line 751, in send_multipart\n",
      "  File \"/Users/kashifali/.pyenv/versions/3.11.9/lib/python3.11/site-packages/zmq/sugar/socket.py\", line 698, in send\n",
      "  File \"_zmq.py\", line 1081, in zmq.backend.cython._zmq.Socket.send\n",
      "  File \"_zmq.py\", line 1144, in zmq.backend.cython._zmq.Socket.send\n",
      "  File \"_zmq.py\", line 345, in zmq.backend.cython._zmq.Frame.__init__\n",
      "ModuleNotFoundError: No module named 'zmq.utils.garbage'\n",
      "2025-05-25 12:40:09.147 Exception in callback functools.partial(<function ZMQStream._update_handler.<locals>.<lambda> at 0x342822b60>)\n",
      "Traceback (most recent call last):\n",
      "  File \"/Users/kashifali/.pyenv/versions/3.11.9/lib/python3.11/site-packages/tornado/ioloop.py\", line 758, in _run_callback\n",
      "  File \"/Users/kashifali/.pyenv/versions/3.11.9/lib/python3.11/site-packages/zmq/eventloop/zmqstream.py\", line 684, in <lambda>\n",
      "  File \"/Users/kashifali/.pyenv/versions/3.11.9/lib/python3.11/site-packages/zmq/eventloop/zmqstream.py\", line 600, in _handle_events\n",
      "  File \"/Users/kashifali/.pyenv/versions/3.11.9/lib/python3.11/site-packages/zmq/eventloop/zmqstream.py\", line 629, in _handle_recv\n",
      "  File \"/Users/kashifali/.pyenv/versions/3.11.9/lib/python3.11/site-packages/zmq/eventloop/zmqstream.py\", line 550, in _run_callback\n",
      "  File \"/Users/kashifali/.pyenv/versions/3.11.9/lib/python3.11/site-packages/ipykernel/iostream.py\", line 170, in _handle_event\n",
      "  File \"/Users/kashifali/.pyenv/versions/3.11.9/lib/python3.11/site-packages/ipykernel/iostream.py\", line 276, in <lambda>\n",
      "  File \"/Users/kashifali/.pyenv/versions/3.11.9/lib/python3.11/site-packages/ipykernel/iostream.py\", line 287, in _really_send\n",
      "  File \"/Users/kashifali/.pyenv/versions/3.11.9/lib/python3.11/site-packages/zmq/sugar/socket.py\", line 751, in send_multipart\n",
      "  File \"/Users/kashifali/.pyenv/versions/3.11.9/lib/python3.11/site-packages/zmq/sugar/socket.py\", line 698, in send\n",
      "  File \"_zmq.py\", line 1081, in zmq.backend.cython._zmq.Socket.send\n",
      "  File \"_zmq.py\", line 1144, in zmq.backend.cython._zmq.Socket.send\n",
      "  File \"_zmq.py\", line 345, in zmq.backend.cython._zmq.Frame.__init__\n",
      "ModuleNotFoundError: No module named 'zmq.utils.garbage'\n"
     ]
    }
   ],
   "source": [
    "# Plot confusion matrix\n",
    "plot_confusion_matrix(model, val_loader, dataset.classes)\n",
    "\n",
    "# Predict a sample image\n",
    "predict_image(\"food-101/images/apple_pie/98449.jpg\", model, transform, dataset.classes)"
   ]
  },
  {
   "cell_type": "code",
   "execution_count": null,
   "id": "077364f8-e1e3-4fbe-887e-7249b7004e02",
   "metadata": {},
   "outputs": [],
   "source": []
  }
 ],
 "metadata": {
  "kernelspec": {
   "display_name": "Python 3 (ipykernel)",
   "language": "python",
   "name": "python3"
  },
  "language_info": {
   "codemirror_mode": {
    "name": "ipython",
    "version": 3
   },
   "file_extension": ".py",
   "mimetype": "text/x-python",
   "name": "python",
   "nbconvert_exporter": "python",
   "pygments_lexer": "ipython3",
   "version": "3.11.9"
  }
 },
 "nbformat": 4,
 "nbformat_minor": 5
}
